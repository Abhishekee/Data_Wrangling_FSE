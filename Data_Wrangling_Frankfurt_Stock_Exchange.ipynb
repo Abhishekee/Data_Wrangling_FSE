{
 "cells": [
  {
   "cell_type": "code",
   "execution_count": 65,
   "id": "af0325a4",
   "metadata": {},
   "outputs": [],
   "source": [
    "import os\n",
    "import requests\n",
    "from statistics import median\n",
    "from datetime import datetime, timedelta\n",
    "MY_API_KEY = \"GiLsNT3yeyEPwCHaCz4V\"\n"
   ]
  },
  {
   "cell_type": "code",
   "execution_count": 66,
   "id": "fb41cb14",
   "metadata": {},
   "outputs": [],
   "source": [
    "FSE_AFX_base_url = 'https://data.nasdaq.com/api/v3/datasets/FSE/AFX_X'\n",
    "params = {\n",
    "    'start_date' : datetime.strftime(datetime.now() - timedelta(1), '%Y-%m-%d'),\n",
    "    'end_date' : datetime.strftime(datetime.now() - timedelta(1), '%Y-%m-%d'),\n",
    "    'api_key' : MY_API_KEY\n",
    "}\n",
    "response = requests.get(FSE_AFX_base_url, params = params)"
   ]
  },
  {
   "cell_type": "code",
   "execution_count": 6,
   "id": "c7122a5e",
   "metadata": {},
   "outputs": [
    {
     "data": {
      "text/plain": [
       "{'dataset': {'id': 10095370,\n",
       "  'dataset_code': 'AFX_X',\n",
       "  'database_code': 'FSE',\n",
       "  'name': 'Carl Zeiss Meditec (AFX_X)',\n",
       "  'description': 'Stock Prices for Carl Zeiss Meditec (2020-11-02) from the Frankfurt Stock Exchange.<br><br>Trading System: Xetra<br><br>ISIN: DE0005313704',\n",
       "  'refreshed_at': '2020-12-01T14:48:09.907Z',\n",
       "  'newest_available_date': '2020-12-01',\n",
       "  'oldest_available_date': '2000-06-07',\n",
       "  'column_names': ['Date',\n",
       "   'Open',\n",
       "   'High',\n",
       "   'Low',\n",
       "   'Close',\n",
       "   'Change',\n",
       "   'Traded Volume',\n",
       "   'Turnover',\n",
       "   'Last Price of the Day',\n",
       "   'Daily Traded Units',\n",
       "   'Daily Turnover'],\n",
       "  'frequency': 'daily',\n",
       "  'type': 'Time Series',\n",
       "  'premium': False,\n",
       "  'limit': None,\n",
       "  'transform': None,\n",
       "  'column_index': None,\n",
       "  'start_date': '2022-09-02',\n",
       "  'end_date': '2020-12-01',\n",
       "  'data': [],\n",
       "  'collapse': None,\n",
       "  'order': None,\n",
       "  'database_id': 6129}}"
      ]
     },
     "execution_count": 6,
     "metadata": {},
     "output_type": "execute_result"
    }
   ],
   "source": [
    "response.json()"
   ]
  },
  {
   "cell_type": "code",
   "execution_count": 9,
   "id": "d6b2e172",
   "metadata": {},
   "outputs": [
    {
     "name": "stdout",
     "output_type": "stream",
     "text": [
      "Working\n"
     ]
    }
   ],
   "source": [
    "FSE_AFX_base_url = 'https://data.nasdaq.com/api/v3/datasets/FSE/AFX_X'\n",
    "params = {\n",
    "    'start_date' : '2019-01-02',\n",
    "    'end_date' : '2019-12-30',\n",
    "    'api_key' : MY_API_KEY\n",
    "}\n",
    "response = requests.get(FSE_AFX_base_url, params = params)\n",
    "\n",
    "\n",
    "if response.status_code != 200:\n",
    "    print(\"Error\")\n",
    "else:\n",
    "    print(\"Working\")"
   ]
  },
  {
   "cell_type": "code",
   "execution_count": 15,
   "id": "973b0cd2",
   "metadata": {},
   "outputs": [
    {
     "data": {
      "text/plain": [
       "['2019-12-20',\n",
       " 115.9,\n",
       " 116.7,\n",
       " 114.4,\n",
       " 114.6,\n",
       " None,\n",
       " 185866.0,\n",
       " 21368077.0,\n",
       " None,\n",
       " None,\n",
       " None]"
      ]
     },
     "execution_count": 15,
     "metadata": {},
     "output_type": "execute_result"
    }
   ],
   "source": [
    "data = response.json()\n",
    "\n",
    "data.keys()\n",
    "\n",
    "data['dataset'].keys()\n",
    "data['dataset']['data'][3]"
   ]
  },
  {
   "cell_type": "code",
   "execution_count": 25,
   "id": "acca4108",
   "metadata": {},
   "outputs": [],
   "source": [
    "dataset = data['dataset']"
   ]
  },
  {
   "cell_type": "code",
   "execution_count": 23,
   "id": "24d0a3e1",
   "metadata": {},
   "outputs": [
    {
     "data": {
      "text/plain": [
       "'Time Series'"
      ]
     },
     "execution_count": 23,
     "metadata": {},
     "output_type": "execute_result"
    }
   ],
   "source": [
    "data['dataset']['type']"
   ]
  },
  {
   "cell_type": "code",
   "execution_count": 24,
   "id": "b97acc0c",
   "metadata": {},
   "outputs": [
    {
     "data": {
      "text/plain": [
       "['Date',\n",
       " 'Open',\n",
       " 'High',\n",
       " 'Low',\n",
       " 'Close',\n",
       " 'Change',\n",
       " 'Traded Volume',\n",
       " 'Turnover',\n",
       " 'Last Price of the Day',\n",
       " 'Daily Traded Units',\n",
       " 'Daily Turnover']"
      ]
     },
     "execution_count": 24,
     "metadata": {},
     "output_type": "execute_result"
    }
   ],
   "source": [
    "data['dataset']['column_names']"
   ]
  },
  {
   "cell_type": "code",
   "execution_count": 30,
   "id": "e0772711",
   "metadata": {},
   "outputs": [
    {
     "data": {
      "text/plain": [
       "116.0"
      ]
     },
     "execution_count": 30,
     "metadata": {},
     "output_type": "execute_result"
    }
   ],
   "source": [
    "FSE_data = dataset['data']\n",
    "FSE_data[1]\n",
    "FSE_data[1][1]"
   ]
  },
  {
   "cell_type": "code",
   "execution_count": 62,
   "id": "87684121",
   "metadata": {},
   "outputs": [
    {
     "name": "stdout",
     "output_type": "stream",
     "text": [
      "largest open price:  116.4\n",
      "lowest open price:  83.8\n"
     ]
    }
   ],
   "source": [
    "largest_open_price = max(row[1] for row in FSE_data if row[1] is not None)\n",
    "lowest_open_price = min(row[1] for row in FSE_data if row[1] is not None)\n",
    "print(\"largest open price: \", max_open_price)\n",
    "print(\"lowest open price: \", min_open_price)"
   ]
  },
  {
   "cell_type": "code",
   "execution_count": 35,
   "id": "680c63dc",
   "metadata": {},
   "outputs": [
    {
     "name": "stdout",
     "output_type": "stream",
     "text": [
      "[['2019-04-25', None, 84.6, 83.25, 84.15, None, 148669.0, 12492975.0, None, None, None], ['2019-04-24', None, 84.4, 83.0, 83.5, None, 220545.0, 18418288.0, None, None, None], ['2019-04-23', None, 83.45, 80.85, 82.45, None, 204897.0, 16892655.0, None, None, None], ['2019-04-18', None, 80.85, 79.7, 80.55, None, 139210.0, 11191903.0, None, None, None], ['2019-04-17', None, 81.5, 79.35, 80.6, None, 184162.0, 14795080.0, None, None, None], ['2019-04-16', None, 80.7, 77.35, 80.55, None, 196765.0, 15721670.0, None, None, None], ['2019-04-15', None, 79.75, 77.15, 77.75, None, 328157.0, 25767779.0, None, None, None], ['2019-04-12', None, 76.6, 71.45, 76.1, None, 371861.0, 27899648.0, None, None, None], ['2019-04-11', None, 72.6, 71.25, 71.4, None, 145887.0, 10446345.0, None, None, None], ['2019-04-10', None, 75.1, 71.25, 72.35, None, 275232.0, 19935924.0, None, None, None], ['2019-04-09', None, 75.8, 73.3, 75.3, None, 183859.0, 13789864.0, None, None, None], ['2019-04-08', None, 74.3, 73.2, 73.9, None, 97485.0, 7207459.0, None, None, None], ['2019-04-05', None, 74.85, 71.5, 73.95, None, 157218.0, 11594577.0, None, None, None], ['2019-04-04', None, 74.05, 72.4, 72.65, None, 158556.0, 11579303.0, None, None, None], ['2019-04-03', None, 75.25, 73.85, 73.85, None, 144886.0, 10739907.0, None, None, None], ['2019-04-02', None, 75.5, 74.6, 74.6, None, 108236.0, 8102774.0, None, None, None], ['2019-04-01', None, 76.0, 74.1, 74.9, None, 186845.0, 14041454.0, None, None, None], ['2019-03-29', None, 78.75, 74.25, 74.45, None, 348683.0, 26421482.0, None, None, None], ['2019-03-28', None, 80.5, 78.55, 80.35, None, 127679.0, 10235119.0, None, None, None], ['2019-03-27', None, 78.65, 77.25, 78.65, None, 111915.0, 8756359.0, None, None, None], ['2019-03-26', None, 78.5, 77.2, 78.25, None, 109408.0, 8541919.0, None, None, None], ['2019-03-25', None, 78.7, 76.35, 77.65, None, 113083.0, 8792848.0, None, None, None], ['2019-03-22', None, 78.2, 76.3, 76.65, None, 77815.0, 5976261.0, None, None, None], ['2019-03-21', None, 78.1, 76.4, 77.7, None, 70070.0, 5422594.0, None, None, None], ['2019-03-20', None, 79.25, 77.45, 77.5, None, 103389.0, 8060059.0, None, None, None], ['2019-03-19', None, 79.85, 78.75, 79.15, None, 124024.0, 9826101.0, None, None, None], ['2019-03-18', None, 79.65, 78.05, 78.8, None, 92351.0, 7278947.0, None, None, None], ['2019-03-15', None, 79.05, 78.0, 78.7, None, 115466.0, 9084069.0, None, None, None], ['2019-03-14', None, 78.75, 77.45, 78.0, None, 74833.0, 5838347.0, None, None, None], ['2019-03-13', None, 78.15, 77.25, 78.15, None, 66050.0, 5149125.0, None, None, None], ['2019-03-12', None, 78.45, 77.45, 77.5, None, 67232.0, 5225497.0, None, None, None], ['2019-03-11', None, 77.8, 76.35, 77.65, None, 61032.0, 4722675.0, None, None, None], ['2019-03-08', None, 77.6, 76.0, 76.35, None, 67055.0, 5130767.0, None, None, None], ['2019-03-07', None, 77.55, 75.85, 77.45, None, 106513.0, 8189444.0, None, None, None], ['2019-03-06', None, 78.25, 77.3, 77.4, None, 78443.0, 6093803.0, None, None, None], ['2019-03-05', None, 77.95, 76.0, 77.6, None, 103819.0, 8011592.0, None, None, None], ['2019-03-04', None, 77.1, 76.0, 76.55, None, 77502.0, 5942532.0, None, None, None], ['2019-03-01', None, 75.7, 74.5, 75.6, None, 82127.0, 6184411.0, None, None, None], ['2019-02-28', None, 75.0, 73.8, 75.0, None, 106203.0, 7931125.0, None, None, None], ['2019-02-27', None, 76.4, 74.4, 74.5, None, 90852.0, 6797813.0, None, None, None], ['2019-02-26', None, 76.8, 74.85, 76.25, None, 118344.0, 9005952.0, None, None, None], ['2019-02-25', None, 76.1, 74.85, 75.1, None, 107737.0, 8118951.0, None, None, None], ['2019-02-22', None, 76.8, 75.05, 75.7, None, 123752.0, 9362938.0, None, None, None], ['2019-02-21', None, 78.1, 76.45, 76.7, None, 108024.0, 8319602.0, None, None, None], ['2019-02-20', None, 77.9, 76.45, 77.1, None, 109679.0, 8451729.0, None, None, None], ['2019-02-19', None, 77.65, 76.8, 77.35, None, 113706.0, 8789627.0, None, None, None], ['2019-02-18', None, 78.0, 76.95, 77.25, None, 125791.0, 9723198.0, None, None, None], ['2019-02-15', None, 78.3, 76.25, 77.3, None, 211399.0, 16353500.0, None, None, None], ['2019-02-14', None, 81.75, 77.2, 77.45, None, 279258.0, 21948923.0, None, None, None], ['2019-02-13', None, 83.65, 80.75, 80.95, None, None, None, None, None, None], ['2019-02-12', None, 84.55, 82.1, 82.4, None, None, None, None, None, None], ['2019-02-11', None, 83.2, 81.3, 82.15, None, None, None, None, None, None], ['2019-02-08', None, 81.85, 79.8, 81.35, None, None, None, None, None, None], ['2019-02-07', None, 83.4, 81.8, 81.95, None, None, None, None, None, None], ['2019-02-06', None, 82.95, 81.75, 82.6, None, None, None, None, None, None], ['2019-02-05', None, 82.6, 80.5, 82.05, None, None, None, None, None, None], ['2019-02-04', None, 81.4, 78.3, 81.15, None, None, None, None, None, None], ['2019-02-01', None, 81.65, 78.2, 78.45, None, None, None, None, None, None], ['2019-01-31', None, 79.15, 78.1, 79.15, None, None, None, None, None, None], ['2019-01-30', None, 79.05, 77.8, 78.4, None, None, None, None, None, None], ['2019-01-29', None, 79.3, 78.15, 78.6, None, None, None, None, None, None], ['2019-01-28', None, 79.45, 78.4, 78.55, None, None, None, None, None, None], ['2019-01-25', None, 80.3, 78.3, 78.55, None, None, None, None, None, None], ['2019-01-24', None, 79.25, 77.85, 79.2, None, None, None, None, None, None], ['2019-01-23', None, 80.9, 77.6, 79.95, None, None, None, None, None, None], ['2019-01-22', None, 80.15, 78.1, 78.75, None, None, None, None, None, None], ['2019-01-21', None, 78.15, 75.2, 77.9, None, None, None, None, None, None], ['2019-01-18', None, 75.8, 74.0, 75.15, None, None, None, None, None, None], ['2019-01-17', None, 75.75, 74.4, 74.7, None, None, None, None, None, None], ['2019-01-15', None, 74.75, 73.55, 74.75, None, None, None, None, None, None], ['2019-01-14', None, 75.65, 73.15, 73.85, None, None, None, None, None, None], ['2019-01-11', None, 74.8, 73.75, 74.0, None, None, None, None, None, None], ['2019-01-10', None, 74.85, 73.6, 74.0, None, None, None, None, None, None], ['2019-01-09', None, 76.55, 74.55, 74.8, None, None, None, None, None, None], ['2019-01-08', None, 74.95, 72.5, 74.2, None, None, None, None, None, None], ['2019-01-07', None, 72.65, 70.9, 72.6, None, None, None, None, None, None], ['2019-01-04', None, 71.0, 68.8, 70.75, None, None, None, None, None, None], ['2019-01-03', None, 69.35, 67.75, 68.5, None, None, None, None, None, None], ['2019-01-02', None, 70.85, 68.25, 69.85, None, None, None, None, None, None]]\n"
     ]
    }
   ],
   "source": [
    "no_dates = [row for row in FSE_data if row[1] is None]\n",
    "print(no_dates)"
   ]
  },
  {
   "cell_type": "code",
   "execution_count": 37,
   "id": "a1c24feb",
   "metadata": {},
   "outputs": [
    {
     "name": "stdout",
     "output_type": "stream",
     "text": [
      "high_price: 116.3 low_price: 115.0\n"
     ]
    }
   ],
   "source": [
    "print(\"high_price:\", FSE_data[1][2], 'low_price:', FSE_data[1][3])"
   ]
  },
  {
   "cell_type": "code",
   "execution_count": 63,
   "id": "96f3aeff",
   "metadata": {},
   "outputs": [
    {
     "name": "stdout",
     "output_type": "stream",
     "text": [
      "max change in a day: 11.450000000000003\n"
     ]
    }
   ],
   "source": [
    "maximum_diff = max(row[2]-row[3] for row in FSE_data if row[2] is not None and row[3] is not None)\n",
    "print(\"max change in a day:\", maximum_diff)"
   ]
  },
  {
   "cell_type": "code",
   "execution_count": 39,
   "id": "6d44187d",
   "metadata": {},
   "outputs": [
    {
     "data": {
      "text/plain": [
       "116.3"
      ]
     },
     "execution_count": 39,
     "metadata": {},
     "output_type": "execute_result"
    }
   ],
   "source": [
    "FSE_data[1][4]"
   ]
  },
  {
   "cell_type": "code",
   "execution_count": 64,
   "id": "ca019800",
   "metadata": {},
   "outputs": [
    {
     "name": "stdout",
     "output_type": "stream",
     "text": [
      "Max Change in any two days: 11.200000000000003\n"
     ]
    }
   ],
   "source": [
    "maximum_change = 0\n",
    "for i in range(1, len(FSE_data)):\n",
    "    difference_closing_price = FSE_data[i][4] - FSE_data[i-1][4]\n",
    "    if abs(difference_closing_price) > maximum_change:\n",
    "        maximum_change = abs(difference_closing_price)\n",
    "print(\"Max Change in any two days:\", maximum_change)"
   ]
  },
  {
   "cell_type": "code",
   "execution_count": 53,
   "id": "cc411d24",
   "metadata": {},
   "outputs": [
    {
     "data": {
      "text/plain": [
       "250"
      ]
     },
     "execution_count": 53,
     "metadata": {},
     "output_type": "execute_result"
    }
   ],
   "source": [
    "FSE_data[1][6]\n"
   ]
  },
  {
   "cell_type": "code",
   "execution_count": 59,
   "id": "7c7eb8c5",
   "metadata": {},
   "outputs": [
    {
     "name": "stdout",
     "output_type": "stream",
     "text": [
      "Average daily Trading Volume for 2019: 139412.904\n"
     ]
    }
   ],
   "source": [
    "avg_daily_trading_volume = sum([row[6] for row in FSE_data if row[6] is not None])/ len(FSE_data)\n",
    "print(\"Average daily Trading Volume for 2019:\", avg_daily_trading_volume)"
   ]
  },
  {
   "cell_type": "code",
   "execution_count": 61,
   "id": "999bb013",
   "metadata": {},
   "outputs": [
    {
     "name": "stdout",
     "output_type": "stream",
     "text": [
      "Median Trading voume for 2019: 123873.0\n"
     ]
    }
   ],
   "source": [
    "data =[2,6,9,35,11]\n",
    "print(\"Median Trading voume for 2019:\", median([row[6] for row in FSE_data if row[1] is not None])) "
   ]
  }
 ],
 "metadata": {
  "kernelspec": {
   "display_name": "Python 3 (ipykernel)",
   "language": "python",
   "name": "python3"
  },
  "language_info": {
   "codemirror_mode": {
    "name": "ipython",
    "version": 3
   },
   "file_extension": ".py",
   "mimetype": "text/x-python",
   "name": "python",
   "nbconvert_exporter": "python",
   "pygments_lexer": "ipython3",
   "version": "3.9.12"
  }
 },
 "nbformat": 4,
 "nbformat_minor": 5
}
